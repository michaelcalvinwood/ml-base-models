{
  "nbformat": 4,
  "nbformat_minor": 0,
  "metadata": {
    "colab": {
      "provenance": []
    },
    "kernelspec": {
      "name": "python3",
      "display_name": "Python 3"
    },
    "language_info": {
      "name": "python"
    }
  },
  "cells": [
    {
      "cell_type": "code",
      "execution_count": null,
      "metadata": {
        "id": "oVyzMp6VloKV"
      },
      "outputs": [],
      "source": [
        "def drop_irrelevant_columns(df, columns):\n",
        "  try:\n",
        "    return df.drop(columns=columns)\n",
        "  except:\n",
        "    return df\n",
        "\n",
        "def drop_duplicates(df):\n",
        "    return df.drop_duplicates()\n",
        "\n",
        "def drop_rows_with_missing_values(df):\n",
        "    return df.dropna()\n",
        "\n",
        "def num_missing_records(df):\n",
        "  num = df.isnull().sum()\n",
        "  print(f'Num missing records:\\n{num}')\n",
        "  return num\n"
      ]
    }
  ]
}