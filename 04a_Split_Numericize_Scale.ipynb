{
  "nbformat": 4,
  "nbformat_minor": 0,
  "metadata": {
    "colab": {
      "provenance": []
    },
    "kernelspec": {
      "name": "python3",
      "display_name": "Python 3"
    },
    "language_info": {
      "name": "python"
    }
  },
  "cells": [
    {
      "cell_type": "markdown",
      "source": [
        "## Sectional Data"
      ],
      "metadata": {
        "id": "ZNEHnjR0Pk4s"
      }
    },
    {
      "cell_type": "code",
      "execution_count": null,
      "metadata": {
        "id": "u06IVeA5PVr1"
      },
      "outputs": [],
      "source": [
        "from sklearn.compose import make_column_transformer\n",
        "from sklearn.preprocessing import MinMaxScaler, OneHotEncoder\n",
        "from sklearn.model_selection import train_test_split\n",
        "\n",
        "def prepare_sectional_data(X, y, test_size=0.2, random_state=42):\n",
        "  X_train, X_test, y_train, y_test = train_test_split(X, y, test_size=test_size, random_state=random_state)\n",
        "  numeric_columns = list(X_train.select_dtypes(include='number'))\n",
        "  non_numeric_columns = list(X_train.select_dtypes(include='object'))\n",
        "  ct = make_column_transformer(\n",
        "    (MinMaxScaler(), numeric_columns), # get all values between 0 and 1\n",
        "    (OneHotEncoder(handle_unknown=\"ignore\"), non_numeric_columns)\n",
        "  )\n",
        "  X_train_normal = ct.fit_transform(X_train)\n",
        "  X_test_normal = ct.transform(X_test)\n",
        "  return X_train_normal, X_test_normal, y_train, y_test\n",
        "\n",
        "#X_train_normal, X_test_normal, y_train, y_test = prepare_sectional_data(X, y)"
      ]
    }
  ]
}