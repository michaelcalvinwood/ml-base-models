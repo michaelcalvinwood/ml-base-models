{
  "nbformat": 4,
  "nbformat_minor": 0,
  "metadata": {
    "colab": {
      "provenance": []
    },
    "kernelspec": {
      "name": "python3",
      "display_name": "Python 3"
    },
    "language_info": {
      "name": "python"
    }
  },
  "cells": [
    {
      "cell_type": "markdown",
      "source": [
        "## Links\n",
        "\n",
        "\n"
      ],
      "metadata": {
        "id": "tJL8PPkllaRe"
      }
    },
    {
      "cell_type": "markdown",
      "source": [
        "## Tabular Data"
      ],
      "metadata": {
        "id": "_XXqoAkXg54T"
      }
    },
    {
      "cell_type": "markdown",
      "source": [
        "### Scikit Learn"
      ],
      "metadata": {
        "id": "ND4em75em2I8"
      }
    },
    {
      "cell_type": "markdown",
      "source": [
        "Generated Datasets: https://scikit-learn.org/stable/datasets/sample_generators.html\n",
        "\n",
        "Toy Datasets: https://scikit-learn.org/stable/datasets/toy_dataset.html\n",
        "\n",
        "Real-World Datasets: https://scikit-learn.org/stable/datasets/real_world.html\n",
        "\n",
        "Loading Other Datasets: https://scikit-learn.org/stable/datasets/loading_other_datasets.html"
      ],
      "metadata": {
        "id": "80-hYFQUm4R9"
      }
    },
    {
      "cell_type": "markdown",
      "source": [
        "### Iris\n",
        "\n",
        "https://scikit-learn.org/stable/modules/generated/sklearn.datasets.load_iris.html#sklearn.datasets.load_iris"
      ],
      "metadata": {
        "id": "lnsqe4ULhPll"
      }
    },
    {
      "cell_type": "markdown",
      "source": [
        "### Diabetes Disease Progression (scikit-learn)\n",
        "\n",
        "**Data Set Characteristics:**\n",
        "\n",
        "   Sample Size: 442\n",
        "\n",
        "   Features:\n",
        "\n",
        "       - age     age in years\n",
        "\n",
        "       - sex\n",
        "\n",
        "       - bmi     body mass index\n",
        "\n",
        "       - bp      average blood pressure\n",
        "              \n",
        "       - s1      tc, total serum cholesterol\n",
        "\n",
        "       - s2      ldl, low-density lipoproteins\n",
        "\n",
        "       - s3      hdl, high-density lipoproteins\n",
        "\n",
        "       - s4      tch, total cholesterol / HDL\n",
        "\n",
        "       - s5      ltg, possibly log of serum triglycerides level\n",
        "\n",
        "       - s6      glu, blood sugar level\n",
        "\n",
        "    Target: a quantitative measure of disease progression one year after baseline"
      ],
      "metadata": {
        "id": "Mo2kUgzZjiMi"
      }
    },
    {
      "cell_type": "code",
      "source": [
        "from sklearn.datasets import load_diabetes\n",
        "\n",
        "data = load_diabetes()\n",
        "\n",
        "data.keys()"
      ],
      "metadata": {
        "colab": {
          "base_uri": "https://localhost:8080/"
        },
        "id": "ogqxmY9Phgth",
        "outputId": "04653385-2d64-4ed5-9eaf-5210ad237414"
      },
      "execution_count": 1,
      "outputs": [
        {
          "output_type": "execute_result",
          "data": {
            "text/plain": [
              "dict_keys(['data', 'target', 'frame', 'DESCR', 'feature_names', 'data_filename', 'target_filename', 'data_module'])"
            ]
          },
          "metadata": {},
          "execution_count": 1
        }
      ]
    },
    {
      "cell_type": "code",
      "source": [
        "data.data.shape\n",
        "\n"
      ],
      "metadata": {
        "colab": {
          "base_uri": "https://localhost:8080/"
        },
        "id": "EULzhdKqiKU6",
        "outputId": "86b6383f-2a30-412e-9f48-85ae27069662"
      },
      "execution_count": 4,
      "outputs": [
        {
          "output_type": "execute_result",
          "data": {
            "text/plain": [
              "(442, 10)"
            ]
          },
          "metadata": {},
          "execution_count": 4
        }
      ]
    },
    {
      "cell_type": "code",
      "source": [
        "data.feature_names"
      ],
      "metadata": {
        "colab": {
          "base_uri": "https://localhost:8080/"
        },
        "id": "xf3m4STvilGr",
        "outputId": "88b97b55-46df-4e00-96df-f7b58a7916cb"
      },
      "execution_count": 7,
      "outputs": [
        {
          "output_type": "execute_result",
          "data": {
            "text/plain": [
              "['age', 'sex', 'bmi', 'bp', 's1', 's2', 's3', 's4', 's5', 's6']"
            ]
          },
          "metadata": {},
          "execution_count": 7
        }
      ]
    },
    {
      "cell_type": "code",
      "source": [
        "data.data[0]"
      ],
      "metadata": {
        "colab": {
          "base_uri": "https://localhost:8080/"
        },
        "id": "bdRocQ2OiXeB",
        "outputId": "6168b13d-b22b-48e8-fdb2-0ef6603b4f55"
      },
      "execution_count": 5,
      "outputs": [
        {
          "output_type": "execute_result",
          "data": {
            "text/plain": [
              "array([ 0.03807591,  0.05068012,  0.06169621,  0.02187239, -0.0442235 ,\n",
              "       -0.03482076, -0.04340085, -0.00259226,  0.01990749, -0.01764613])"
            ]
          },
          "metadata": {},
          "execution_count": 5
        }
      ]
    },
    {
      "cell_type": "code",
      "source": [
        "data.target[0]"
      ],
      "metadata": {
        "colab": {
          "base_uri": "https://localhost:8080/"
        },
        "id": "eeqS5Dq0iipJ",
        "outputId": "c621cb84-25e8-4ab9-997b-a5d9b33c36ca"
      },
      "execution_count": 6,
      "outputs": [
        {
          "output_type": "execute_result",
          "data": {
            "text/plain": [
              "151.0"
            ]
          },
          "metadata": {},
          "execution_count": 6
        }
      ]
    },
    {
      "cell_type": "markdown",
      "source": [
        "## Images"
      ],
      "metadata": {
        "id": "rfRgWBLWkqWL"
      }
    },
    {
      "cell_type": "markdown",
      "source": [
        "## Time Series"
      ],
      "metadata": {
        "id": "hQT2AwDxkrqW"
      }
    },
    {
      "cell_type": "markdown",
      "source": [
        "## Text"
      ],
      "metadata": {
        "id": "mHc1VoLQkvUW"
      }
    },
    {
      "cell_type": "markdown",
      "source": [
        "## Video"
      ],
      "metadata": {
        "id": "DHsMnq0sk8eD"
      }
    },
    {
      "cell_type": "markdown",
      "source": [
        "## Audio"
      ],
      "metadata": {
        "id": "NxDFCvbLkxtN"
      }
    },
    {
      "cell_type": "code",
      "source": [],
      "metadata": {
        "id": "bEQofizOlBA2"
      },
      "execution_count": null,
      "outputs": []
    }
  ]
}