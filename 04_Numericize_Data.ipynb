{
  "nbformat": 4,
  "nbformat_minor": 0,
  "metadata": {
    "colab": {
      "provenance": []
    },
    "kernelspec": {
      "name": "python3",
      "display_name": "Python 3"
    },
    "language_info": {
      "name": "python"
    }
  },
  "cells": [
    {
      "cell_type": "markdown",
      "source": [
        "## Convert Labels to Numbers"
      ],
      "metadata": {
        "id": "BB9TDfW5mhcT"
      }
    },
    {
      "cell_type": "code",
      "source": [
        "import pandas as pd"
      ],
      "metadata": {
        "id": "NjntQiVMpHjo"
      },
      "execution_count": null,
      "outputs": []
    },
    {
      "cell_type": "code",
      "source": [
        "# usage: df[colName] = convert_labels_to_numbers(df, colName)\n",
        "def convert_labels_to_numbers(df, column_name):\n",
        "  uniques = df[column_name].unique()\n",
        "  values = [*range(0, len(uniques))]\n",
        "  return df[column_name].replace(uniques, values)"
      ],
      "metadata": {
        "id": "hQFsDOt_mrRI"
      },
      "execution_count": null,
      "outputs": []
    },
    {
      "cell_type": "markdown",
      "source": [
        "## Convert Categorical Variables to Numerical Values"
      ],
      "metadata": {
        "id": "JYFPPSado3Ah"
      }
    },
    {
      "cell_type": "code",
      "source": [
        "def convert_categorical_variables_to_numeric_values(df):\n",
        "  df = pd.get_dummies(df, drop_first=True)\n",
        "  return df\n"
      ],
      "metadata": {
        "id": "138QckLKo9mA"
      },
      "execution_count": null,
      "outputs": []
    }
  ]
}