{
  "nbformat": 4,
  "nbformat_minor": 0,
  "metadata": {
    "colab": {
      "provenance": []
    },
    "kernelspec": {
      "name": "python3",
      "display_name": "Python 3"
    },
    "language_info": {
      "name": "python"
    }
  },
  "cells": [
    {
      "cell_type": "code",
      "execution_count": 1,
      "metadata": {
        "id": "kDIrxSTz4xIC"
      },
      "outputs": [],
      "source": [
        "import tensorflow as tf"
      ]
    },
    {
      "cell_type": "code",
      "source": [
        "a = tf.constant([[1, 2],[3,4]])\n",
        "print('Type: ', a.dtype)\n",
        "print('Rank: ', tf.rank(a))\n",
        "print('Dims: ', a.ndim)\n",
        "print('Shape: ', a.shape)"
      ],
      "metadata": {
        "colab": {
          "base_uri": "https://localhost:8080/"
        },
        "id": "pQ4rAf5h44Zk",
        "outputId": "3aa25e36-c728-4d9b-f013-9c2d69ca4ad1"
      },
      "execution_count": 5,
      "outputs": [
        {
          "output_type": "stream",
          "name": "stdout",
          "text": [
            "Type:  <dtype: 'int32'>\n",
            "Rank:  tf.Tensor(2, shape=(), dtype=int32)\n",
            "Dims:  2\n",
            "Shape:  (2, 2)\n"
          ]
        }
      ]
    },
    {
      "cell_type": "markdown",
      "source": [
        "## Change Type"
      ],
      "metadata": {
        "id": "Lp4m4kM76Q2p"
      }
    },
    {
      "cell_type": "code",
      "source": [
        "a =tf.cast(a,dtype=tf.float32)\n",
        "print('Type: ', a.dtype)\n",
        "print(a)\n"
      ],
      "metadata": {
        "colab": {
          "base_uri": "https://localhost:8080/"
        },
        "id": "ByCP71Zl5SsB",
        "outputId": "82d4d2ef-e8d0-412b-e1a1-6f417b9441ab"
      },
      "execution_count": 9,
      "outputs": [
        {
          "output_type": "stream",
          "name": "stdout",
          "text": [
            "Type:  <dtype: 'float32'>\n",
            "tf.Tensor(\n",
            "[[1. 2.]\n",
            " [3. 4.]], shape=(2, 2), dtype=float32)\n"
          ]
        }
      ]
    },
    {
      "cell_type": "markdown",
      "source": [
        "## Indexing"
      ],
      "metadata": {
        "id": "O-yFYGnL6gyt"
      }
    },
    {
      "cell_type": "code",
      "source": [
        "# Notice these all return tensors\n",
        "print(a[0])\n",
        "print(a[0][0])\n",
        "print(a[0,0])"
      ],
      "metadata": {
        "colab": {
          "base_uri": "https://localhost:8080/"
        },
        "id": "ywQNbAKp55Nf",
        "outputId": "2ab53530-9090-4b68-ad55-26c67ca765b5"
      },
      "execution_count": 10,
      "outputs": [
        {
          "output_type": "stream",
          "name": "stdout",
          "text": [
            "tf.Tensor([1. 2.], shape=(2,), dtype=float32)\n",
            "tf.Tensor(1.0, shape=(), dtype=float32)\n",
            "tf.Tensor(1.0, shape=(), dtype=float32)\n"
          ]
        }
      ]
    },
    {
      "cell_type": "code",
      "source": [
        "print(a[0][0].numpy()) # use numpy() method to extract values"
      ],
      "metadata": {
        "colab": {
          "base_uri": "https://localhost:8080/"
        },
        "id": "ba_2Imy-6Uzg",
        "outputId": "3b07bd7f-e42b-4ab7-daf9-0c010b00c114"
      },
      "execution_count": 12,
      "outputs": [
        {
          "output_type": "stream",
          "name": "stdout",
          "text": [
            "1.0\n"
          ]
        }
      ]
    },
    {
      "cell_type": "markdown",
      "source": [
        "## Arg Min / Max"
      ],
      "metadata": {
        "id": "8iQ90YiW7DzU"
      }
    },
    {
      "cell_type": "code",
      "source": [
        "tf.argmin(a[0]), tf.argmax(a[0])"
      ],
      "metadata": {
        "colab": {
          "base_uri": "https://localhost:8080/"
        },
        "id": "-3PQRm6M7ZAe",
        "outputId": "40d5495c-65cb-4f64-9e85-af509178df3b"
      },
      "execution_count": 19,
      "outputs": [
        {
          "output_type": "execute_result",
          "data": {
            "text/plain": [
              "(<tf.Tensor: shape=(), dtype=int64, numpy=0>,\n",
              " <tf.Tensor: shape=(), dtype=int64, numpy=1>)"
            ]
          },
          "metadata": {},
          "execution_count": 19
        }
      ]
    },
    {
      "cell_type": "markdown",
      "source": [
        "## Expanding Dimensions"
      ],
      "metadata": {
        "id": "T4il1Egy66wU"
      }
    },
    {
      "cell_type": "code",
      "source": [
        "print(tf.expand_dims(a,axis=0).shape)\n",
        "print(tf.expand_dims(a,axis=1).shape)\n",
        "print(tf.expand_dims(a,axis=2).shape)\n",
        "print(tf.expand_dims(a,axis=-1).shape)\n"
      ],
      "metadata": {
        "colab": {
          "base_uri": "https://localhost:8080/"
        },
        "id": "o3lDBkf46uYm",
        "outputId": "2b168575-92e1-47b6-87a1-34b9efd17f92"
      },
      "execution_count": 15,
      "outputs": [
        {
          "output_type": "stream",
          "name": "stdout",
          "text": [
            "(1, 2, 2)\n",
            "(2, 1, 2)\n",
            "(2, 2, 1)\n",
            "(2, 2, 1)\n"
          ]
        }
      ]
    },
    {
      "cell_type": "markdown",
      "source": [
        "## Reshaping Tensors"
      ],
      "metadata": {
        "id": "ku92Zzlh7am0"
      }
    },
    {
      "cell_type": "code",
      "source": [
        "a = tf.constant([[1,2,3,4],[5,6,7,8], [9,10,11,12]])\n",
        "a.shape # 3x4 Matrix"
      ],
      "metadata": {
        "colab": {
          "base_uri": "https://localhost:8080/"
        },
        "id": "7wDc--BC8BbF",
        "outputId": "2a007716-282a-4110-eaec-afb5993948e4"
      },
      "execution_count": 20,
      "outputs": [
        {
          "output_type": "execute_result",
          "data": {
            "text/plain": [
              "TensorShape([3, 4])"
            ]
          },
          "metadata": {},
          "execution_count": 20
        }
      ]
    },
    {
      "cell_type": "code",
      "source": [
        "a = tf.reshape(a, shape=(2, 2, 3))\n",
        "a.shape"
      ],
      "metadata": {
        "colab": {
          "base_uri": "https://localhost:8080/"
        },
        "id": "4f1BXgrv8CN2",
        "outputId": "ed7b3dda-7f03-4f54-ce00-9922895c4d0d"
      },
      "execution_count": 21,
      "outputs": [
        {
          "output_type": "execute_result",
          "data": {
            "text/plain": [
              "TensorShape([2, 2, 3])"
            ]
          },
          "metadata": {},
          "execution_count": 21
        }
      ]
    },
    {
      "cell_type": "code",
      "source": [
        "a"
      ],
      "metadata": {
        "colab": {
          "base_uri": "https://localhost:8080/"
        },
        "id": "JGCZ1s9X8NWr",
        "outputId": "d272ee50-fded-4964-95ee-4921b68f9a94"
      },
      "execution_count": 22,
      "outputs": [
        {
          "output_type": "execute_result",
          "data": {
            "text/plain": [
              "<tf.Tensor: shape=(2, 2, 3), dtype=int32, numpy=\n",
              "array([[[ 1,  2,  3],\n",
              "        [ 4,  5,  6]],\n",
              "\n",
              "       [[ 7,  8,  9],\n",
              "        [10, 11, 12]]], dtype=int32)>"
            ]
          },
          "metadata": {},
          "execution_count": 22
        }
      ]
    },
    {
      "cell_type": "code",
      "source": [
        "a = tf.reshape(a, shape=(12,)) # one way to flatten the array\n",
        "a.shape"
      ],
      "metadata": {
        "colab": {
          "base_uri": "https://localhost:8080/"
        },
        "id": "ZJFH9uJ-8QCF",
        "outputId": "eb49168f-c401-478a-8980-8bd178d0e27b"
      },
      "execution_count": 24,
      "outputs": [
        {
          "output_type": "execute_result",
          "data": {
            "text/plain": [
              "TensorShape([12])"
            ]
          },
          "metadata": {},
          "execution_count": 24
        }
      ]
    },
    {
      "cell_type": "code",
      "source": [
        "a"
      ],
      "metadata": {
        "colab": {
          "base_uri": "https://localhost:8080/"
        },
        "id": "0G8p9Oe29Hb_",
        "outputId": "fa7ddded-4366-4a4e-9855-de0e40159179"
      },
      "execution_count": 25,
      "outputs": [
        {
          "output_type": "execute_result",
          "data": {
            "text/plain": [
              "<tf.Tensor: shape=(12,), dtype=int32, numpy=array([ 1,  2,  3,  4,  5,  6,  7,  8,  9, 10, 11, 12], dtype=int32)>"
            ]
          },
          "metadata": {},
          "execution_count": 25
        }
      ]
    },
    {
      "cell_type": "code",
      "source": [],
      "metadata": {
        "id": "H5RX6GaE9Jyt"
      },
      "execution_count": null,
      "outputs": []
    }
  ]
}